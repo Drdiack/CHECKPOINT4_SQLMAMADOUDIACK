{
  "nbformat": 4,
  "nbformat_minor": 0,
  "metadata": {
    "colab": {
      "provenance": [],
      "authorship_tag": "ABX9TyPdnKcykFVltWYMRTUet/+8",
      "include_colab_link": true
    },
    "kernelspec": {
      "name": "python3",
      "display_name": "Python 3"
    },
    "language_info": {
      "name": "python"
    }
  },
  "cells": [
    {
      "cell_type": "markdown",
      "metadata": {
        "id": "view-in-github",
        "colab_type": "text"
      },
      "source": [
        "<a href=\"https://colab.research.google.com/github/Drdiack/CHECKPOINT4_SQLMAMADOUDIACK/blob/master/Untitled1.ipynb\" target=\"_parent\"><img src=\"https://colab.research.google.com/assets/colab-badge.svg\" alt=\"Open In Colab\"/></a>"
      ]
    },
    {
      "cell_type": "code",
      "execution_count": 2,
      "metadata": {
        "colab": {
          "base_uri": "https://localhost:8080/"
        },
        "id": "H0OtlEkqLzBd",
        "outputId": "4f990f4c-0302-4eb1-a6c3-14c1adb6c61a"
      },
      "outputs": [
        {
          "output_type": "stream",
          "name": "stdout",
          "text": [
            "Bonjour le monde ! \n",
            "Python Print Function\n"
          ]
        }
      ],
      "source": [
        "print (\"Bonjour le monde ! \")\n",
        "print (\"Python Print Function\")\n"
      ]
    },
    {
      "cell_type": "code",
      "source": [
        "# ax2 + bX + c = 0\n",
        "import math\n",
        "a= int( input  (\"Valeur de a : \"))\n",
        "b= int(input (\"Valeur de b  : \"))\n",
        "c=  int (input (\"Valeur de c  : \"))\n",
        "\n",
        "##Calcul de Délta\"\n",
        "Delta= b*b - (4 * a*c)\n",
        "print (\"La valeur de Delta est \", Delta)\n",
        "#cALCULONS X1 ET X2\n",
        "if Delta > 0 :\n",
        "  x1= (-b - math.sqrt(Delta))/2*a\n",
        "  x2 = (-b +math.sqrt(Delta))/2*a\n",
        "  print(f\"la premiere solution {x1},  la  deuxieme valeur {x2}\")\n",
        "  #Si delta = 0\n",
        "elif Delta == 0 :\n",
        "    X0 =-b/2*a\n",
        "    print (\"la valeur de X0 est\",X0)\n",
        "else :\n",
        "  print (\"Pas de solution\")"
      ],
      "metadata": {
        "colab": {
          "base_uri": "https://localhost:8080/"
        },
        "id": "ZZBAHkwCQ3oN",
        "outputId": "d761f5e4-ad35-46a2-e2de-edb1b2663711"
      },
      "execution_count": 10,
      "outputs": [
        {
          "output_type": "stream",
          "name": "stdout",
          "text": [
            "Valeur de a : 3\n",
            "Valeur de b  : 4\n",
            "Valeur de c  : 15\n",
            "La valeur de Delta est  -164\n",
            "Pas de solution\n"
          ]
        }
      ]
    }
  ]
}